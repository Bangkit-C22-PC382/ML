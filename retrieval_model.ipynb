{
 "cells": [
  {
   "cell_type": "code",
   "execution_count": 64,
   "id": "7f849b6b-9ca4-4221-9768-7f0382023361",
   "metadata": {},
   "outputs": [],
   "source": [
    "!pip install -q tensorflow-recommenders\n",
    "import pandas as pd\n",
    "import tensorflow as tf\n",
    "import numpy as np\n",
    "import tensorflow_recommenders as tfrs\n",
    "from typing import Dict, Text"
   ]
  },
  {
   "cell_type": "code",
   "execution_count": 65,
   "id": "43acd276-0b06-4321-afb0-ea3bcec78f80",
   "metadata": {},
   "outputs": [
    {
     "data": {
      "text/html": [
       "<div>\n",
       "<style scoped>\n",
       "    .dataframe tbody tr th:only-of-type {\n",
       "        vertical-align: middle;\n",
       "    }\n",
       "\n",
       "    .dataframe tbody tr th {\n",
       "        vertical-align: top;\n",
       "    }\n",
       "\n",
       "    .dataframe thead th {\n",
       "        text-align: right;\n",
       "    }\n",
       "</style>\n",
       "<table border=\"1\" class=\"dataframe\">\n",
       "  <thead>\n",
       "    <tr style=\"text-align: right;\">\n",
       "      <th></th>\n",
       "      <th>product_itemid</th>\n",
       "      <th>product_category</th>\n",
       "      <th>product_name</th>\n",
       "      <th>product_price</th>\n",
       "      <th>status</th>\n",
       "      <th>shop_location</th>\n",
       "    </tr>\n",
       "  </thead>\n",
       "  <tbody>\n",
       "    <tr>\n",
       "      <th>0</th>\n",
       "      <td>7919342724</td>\n",
       "      <td>Short Sleeves</td>\n",
       "      <td>NKD Korean Fashion Erich Basic Daily Polo Tie ...</td>\n",
       "      <td>300.0</td>\n",
       "      <td>1</td>\n",
       "      <td>Taytay, Rizal</td>\n",
       "    </tr>\n",
       "    <tr>\n",
       "      <th>1</th>\n",
       "      <td>7140015494</td>\n",
       "      <td>Short Sleeves</td>\n",
       "      <td>OnlyYouth Classic knitted blouse korean top sh...</td>\n",
       "      <td>NaN</td>\n",
       "      <td>1</td>\n",
       "      <td>San Nicolas, Metro Manila</td>\n",
       "    </tr>\n",
       "    <tr>\n",
       "      <th>2</th>\n",
       "      <td>4843903203</td>\n",
       "      <td>Short Sleeves</td>\n",
       "      <td>SS Oversized Ringer Top Plus Size Korean Fashi...</td>\n",
       "      <td>200.0</td>\n",
       "      <td>1</td>\n",
       "      <td>Taytay, Rizal</td>\n",
       "    </tr>\n",
       "    <tr>\n",
       "      <th>3</th>\n",
       "      <td>11405348262</td>\n",
       "      <td>Short Sleeves</td>\n",
       "      <td>Women's T-shirt Short Sleeve Collar with small...</td>\n",
       "      <td>391.0</td>\n",
       "      <td>1</td>\n",
       "      <td>Mainland China</td>\n",
       "    </tr>\n",
       "    <tr>\n",
       "      <th>4</th>\n",
       "      <td>2553628745</td>\n",
       "      <td>Short Sleeves</td>\n",
       "      <td>SS Korean Tops Square Neck Fashion Blouse Semi...</td>\n",
       "      <td>300.0</td>\n",
       "      <td>1</td>\n",
       "      <td>Taytay, Rizal</td>\n",
       "    </tr>\n",
       "  </tbody>\n",
       "</table>\n",
       "</div>"
      ],
      "text/plain": [
       "  product_itemid product_category  \\\n",
       "0     7919342724    Short Sleeves   \n",
       "1     7140015494    Short Sleeves   \n",
       "2     4843903203    Short Sleeves   \n",
       "3    11405348262    Short Sleeves   \n",
       "4     2553628745    Short Sleeves   \n",
       "\n",
       "                                        product_name  product_price  status  \\\n",
       "0  NKD Korean Fashion Erich Basic Daily Polo Tie ...          300.0       1   \n",
       "1  OnlyYouth Classic knitted blouse korean top sh...            NaN       1   \n",
       "2  SS Oversized Ringer Top Plus Size Korean Fashi...          200.0       1   \n",
       "3  Women's T-shirt Short Sleeve Collar with small...          391.0       1   \n",
       "4  SS Korean Tops Square Neck Fashion Blouse Semi...          300.0       1   \n",
       "\n",
       "               shop_location  \n",
       "0              Taytay, Rizal  \n",
       "1  San Nicolas, Metro Manila  \n",
       "2              Taytay, Rizal  \n",
       "3             Mainland China  \n",
       "4              Taytay, Rizal  "
      ]
     },
     "execution_count": 65,
     "metadata": {},
     "output_type": "execute_result"
    }
   ],
   "source": [
    "product_data = pd.read_csv('product_data.csv', on_bad_lines='warn')\n",
    "product_data['product_itemid'] = product_data['product_itemid'].astype('string')\n",
    "product_data.head(5)"
   ]
  },
  {
   "cell_type": "code",
   "execution_count": 66,
   "id": "cca1c7e1-312b-4f02-86e7-70372349d701",
   "metadata": {},
   "outputs": [
    {
     "data": {
      "text/html": [
       "<div>\n",
       "<style scoped>\n",
       "    .dataframe tbody tr th:only-of-type {\n",
       "        vertical-align: middle;\n",
       "    }\n",
       "\n",
       "    .dataframe tbody tr th {\n",
       "        vertical-align: top;\n",
       "    }\n",
       "\n",
       "    .dataframe thead th {\n",
       "        text-align: right;\n",
       "    }\n",
       "</style>\n",
       "<table border=\"1\" class=\"dataframe\">\n",
       "  <thead>\n",
       "    <tr style=\"text-align: right;\">\n",
       "      <th></th>\n",
       "      <th>rating_star</th>\n",
       "      <th>user_id</th>\n",
       "      <th>product_itemid</th>\n",
       "    </tr>\n",
       "  </thead>\n",
       "  <tbody>\n",
       "    <tr>\n",
       "      <th>0</th>\n",
       "      <td>5</td>\n",
       "      <td>11077</td>\n",
       "      <td>3550379942</td>\n",
       "    </tr>\n",
       "    <tr>\n",
       "      <th>1</th>\n",
       "      <td>5</td>\n",
       "      <td>599</td>\n",
       "      <td>3550379942</td>\n",
       "    </tr>\n",
       "    <tr>\n",
       "      <th>2</th>\n",
       "      <td>5</td>\n",
       "      <td>18042</td>\n",
       "      <td>3550379942</td>\n",
       "    </tr>\n",
       "    <tr>\n",
       "      <th>3</th>\n",
       "      <td>5</td>\n",
       "      <td>18255</td>\n",
       "      <td>3550379942</td>\n",
       "    </tr>\n",
       "    <tr>\n",
       "      <th>4</th>\n",
       "      <td>5</td>\n",
       "      <td>19699</td>\n",
       "      <td>3550379942</td>\n",
       "    </tr>\n",
       "  </tbody>\n",
       "</table>\n",
       "</div>"
      ],
      "text/plain": [
       "   rating_star user_id product_itemid\n",
       "0            5   11077     3550379942\n",
       "1            5     599     3550379942\n",
       "2            5   18042     3550379942\n",
       "3            5   18255     3550379942\n",
       "4            5   19699     3550379942"
      ]
     },
     "execution_count": 66,
     "metadata": {},
     "output_type": "execute_result"
    }
   ],
   "source": [
    "rating_data = pd.read_csv('rating_data.csv', on_bad_lines='warn')\n",
    "rating_data['product_itemid'] = rating_data['product_itemid'].astype('string')\n",
    "rating_data['user_id'] = rating_data['user_id'].astype('string')\n",
    "rating_data.head(5)"
   ]
  },
  {
   "cell_type": "code",
   "execution_count": 67,
   "id": "944f2a59-e460-4188-8293-9bc9afe318e2",
   "metadata": {},
   "outputs": [],
   "source": [
    "product_data_ds = tf.data.Dataset.from_tensor_slices(dict(product_data))\n",
    "rating_data_ds = tf.data.Dataset.from_tensor_slices(dict(rating_data))"
   ]
  },
  {
   "cell_type": "code",
   "execution_count": 68,
   "id": "86a55a5e-f8fa-4a46-a177-6e5b97e9a399",
   "metadata": {},
   "outputs": [
    {
     "name": "stdout",
     "output_type": "stream",
     "text": [
      "<MapDataset element_spec={'product_itemid': TensorSpec(shape=(), dtype=tf.string, name=None), 'user_id': TensorSpec(shape=(), dtype=tf.string, name=None)}>\n",
      "<MapDataset element_spec=TensorSpec(shape=(), dtype=tf.string, name=None)>\n"
     ]
    }
   ],
   "source": [
    "rating_data_ds = rating_data_ds.map(lambda x: {\n",
    "    \"product_itemid\": x[\"product_itemid\"],\n",
    "    \"user_id\": x[\"user_id\"],\n",
    "})\n",
    "product_data_ds = product_data_ds.map(lambda x: x[\"product_itemid\"])\n",
    "\n",
    "print(rating_data_ds)\n",
    "print(product_data_ds)"
   ]
  },
  {
   "cell_type": "code",
   "execution_count": 69,
   "id": "e23cb028-a1b8-4eb0-b790-ca811577704c",
   "metadata": {},
   "outputs": [],
   "source": [
    "tf.random.set_seed(42)\n",
    "shuffled = rating_data_ds.shuffle(len(rating_data_ds), seed=42, reshuffle_each_iteration=False)\n",
    "\n",
    "train = shuffled.take(int(len(shuffled)*0.8))\n",
    "test = shuffled.skip(int(len(shuffled)*0.8)).take(int(len(shuffled)*0.2))"
   ]
  },
  {
   "cell_type": "code",
   "execution_count": 70,
   "id": "4000feac-f6f9-4438-b0fd-a407b073126b",
   "metadata": {},
   "outputs": [],
   "source": [
    "product_itemid = product_data_ds.batch(1_000)\n",
    "user_id = rating_data_ds.batch(10_000).map(lambda x: x[\"user_id\"])\n",
    "\n",
    "unique_product = np.unique(np.concatenate(list(product_itemid)))\n",
    "unique_user = np.unique(np.concatenate(list(user_id)))"
   ]
  },
  {
   "cell_type": "code",
   "execution_count": 71,
   "id": "20b86aa1-793d-44ac-947d-177649d01c6d",
   "metadata": {},
   "outputs": [],
   "source": [
    "embedding_dimension = 32\n",
    "\n",
    "user_model = tf.keras.Sequential([\n",
    "  tf.keras.layers.StringLookup(vocabulary=unique_user, mask_token=None),\n",
    "  tf.keras.layers.Embedding(len(unique_user) + 1, embedding_dimension)\n",
    "])\n",
    "product_model = tf.keras.Sequential([\n",
    "  tf.keras.layers.StringLookup(vocabulary=unique_product, mask_token=None),\n",
    "  tf.keras.layers.Embedding(len(unique_product) + 1, embedding_dimension)\n",
    "])"
   ]
  },
  {
   "cell_type": "code",
   "execution_count": 72,
   "id": "ec5e2653-9ba2-426b-9f49-53b2cc352cea",
   "metadata": {},
   "outputs": [],
   "source": [
    "task = tfrs.tasks.Retrieval(\n",
    "    metrics=tfrs.metrics.FactorizedTopK(\n",
    "      candidates=product_data_ds.batch(128).map(product_model)\n",
    "    )\n",
    ")"
   ]
  },
  {
   "cell_type": "code",
   "execution_count": 73,
   "id": "1c42039d-31c9-496d-9dd2-65971360d4c0",
   "metadata": {},
   "outputs": [],
   "source": [
    "class ProductModel(tfrs.Model):\n",
    "\n",
    "  def __init__(self, user_model, product_model):\n",
    "    super().__init__()\n",
    "    self.product_model: tf.keras.Model = product_model\n",
    "    self.user_model: tf.keras.Model = user_model\n",
    "    self.task: tf.keras.layers.Layer = task\n",
    "\n",
    "  def compute_loss(self, features: Dict[Text, tf.Tensor], training=False) -> tf.Tensor:\n",
    "    user_embeddings = self.user_model(features[\"user_id\"])\n",
    "    product_embeddings = self.product_model(features[\"product_itemid\"])\n",
    "\n",
    "    return self.task(user_embeddings, product_embeddings)"
   ]
  },
  {
   "cell_type": "code",
   "execution_count": 74,
   "id": "4c73e07b-bd97-445a-97e3-5d0bca43d595",
   "metadata": {},
   "outputs": [],
   "source": [
    "model = ProductModel(user_model, product_model)\n",
    "model.compile(optimizer=tf.keras.optimizers.Adagrad(learning_rate=0.1))"
   ]
  },
  {
   "cell_type": "code",
   "execution_count": 75,
   "id": "f96fe229-0200-450c-9f10-79bc9e89b9d6",
   "metadata": {},
   "outputs": [],
   "source": [
    "cached_train = train.shuffle(len(train)).batch(int(len(train)*0.1)).cache()\n",
    "cached_test = test.batch(int(len(train)*0.02)).cache()"
   ]
  },
  {
   "cell_type": "code",
   "execution_count": 76,
   "id": "bfa6b713-0385-45e0-a6ec-f0b31fcd209a",
   "metadata": {},
   "outputs": [
    {
     "name": "stdout",
     "output_type": "stream",
     "text": [
      "Epoch 1/20\n",
      "11/11 [==============================] - 7s 498ms/step - factorized_top_k/top_1_categorical_accuracy: 7.3130e-05 - factorized_top_k/top_5_categorical_accuracy: 0.0601 - factorized_top_k/top_10_categorical_accuracy: 0.0857 - factorized_top_k/top_50_categorical_accuracy: 0.1724 - factorized_top_k/top_100_categorical_accuracy: 0.2282 - loss: 28315.1456 - regularization_loss: 0.0000e+00 - total_loss: 28315.1456\n",
      "Epoch 2/20\n",
      "11/11 [==============================] - 5s 490ms/step - factorized_top_k/top_1_categorical_accuracy: 3.4127e-04 - factorized_top_k/top_5_categorical_accuracy: 0.2838 - factorized_top_k/top_10_categorical_accuracy: 0.3536 - factorized_top_k/top_50_categorical_accuracy: 0.5009 - factorized_top_k/top_100_categorical_accuracy: 0.5923 - loss: 26237.2609 - regularization_loss: 0.0000e+00 - total_loss: 26237.2609\n",
      "Epoch 3/20\n",
      "11/11 [==============================] - 5s 487ms/step - factorized_top_k/top_1_categorical_accuracy: 0.0108 - factorized_top_k/top_5_categorical_accuracy: 0.4249 - factorized_top_k/top_10_categorical_accuracy: 0.4936 - factorized_top_k/top_50_categorical_accuracy: 0.7013 - factorized_top_k/top_100_categorical_accuracy: 0.7961 - loss: 22326.8278 - regularization_loss: 0.0000e+00 - total_loss: 22326.8278\n",
      "Epoch 4/20\n",
      "11/11 [==============================] - 5s 495ms/step - factorized_top_k/top_1_categorical_accuracy: 0.0410 - factorized_top_k/top_5_categorical_accuracy: 0.5460 - factorized_top_k/top_10_categorical_accuracy: 0.6389 - factorized_top_k/top_50_categorical_accuracy: 0.7941 - factorized_top_k/top_100_categorical_accuracy: 0.8501 - loss: 19096.8681 - regularization_loss: 0.0000e+00 - total_loss: 19096.8681\n",
      "Epoch 5/20\n",
      "11/11 [==============================] - 5s 493ms/step - factorized_top_k/top_1_categorical_accuracy: 0.0783 - factorized_top_k/top_5_categorical_accuracy: 0.6303 - factorized_top_k/top_10_categorical_accuracy: 0.6998 - factorized_top_k/top_50_categorical_accuracy: 0.8235 - factorized_top_k/top_100_categorical_accuracy: 0.8767 - loss: 16854.4016 - regularization_loss: 0.0000e+00 - total_loss: 16854.4016\n",
      "Epoch 6/20\n",
      "11/11 [==============================] - 5s 493ms/step - factorized_top_k/top_1_categorical_accuracy: 0.1280 - factorized_top_k/top_5_categorical_accuracy: 0.6517 - factorized_top_k/top_10_categorical_accuracy: 0.7173 - factorized_top_k/top_50_categorical_accuracy: 0.8409 - factorized_top_k/top_100_categorical_accuracy: 0.8945 - loss: 15065.1422 - regularization_loss: 0.0000e+00 - total_loss: 15065.1422\n",
      "Epoch 7/20\n",
      "11/11 [==============================] - 6s 498ms/step - factorized_top_k/top_1_categorical_accuracy: 0.1488 - factorized_top_k/top_5_categorical_accuracy: 0.6597 - factorized_top_k/top_10_categorical_accuracy: 0.7263 - factorized_top_k/top_50_categorical_accuracy: 0.8526 - factorized_top_k/top_100_categorical_accuracy: 0.9049 - loss: 13756.8597 - regularization_loss: 0.0000e+00 - total_loss: 13756.8597\n",
      "Epoch 8/20\n",
      "11/11 [==============================] - 6s 514ms/step - factorized_top_k/top_1_categorical_accuracy: 0.1674 - factorized_top_k/top_5_categorical_accuracy: 0.6655 - factorized_top_k/top_10_categorical_accuracy: 0.7326 - factorized_top_k/top_50_categorical_accuracy: 0.8606 - factorized_top_k/top_100_categorical_accuracy: 0.9115 - loss: 13019.1616 - regularization_loss: 0.0000e+00 - total_loss: 13019.1616\n",
      "Epoch 9/20\n",
      "11/11 [==============================] - 6s 511ms/step - factorized_top_k/top_1_categorical_accuracy: 0.1981 - factorized_top_k/top_5_categorical_accuracy: 0.6692 - factorized_top_k/top_10_categorical_accuracy: 0.7367 - factorized_top_k/top_50_categorical_accuracy: 0.8661 - factorized_top_k/top_100_categorical_accuracy: 0.9156 - loss: 12629.0112 - regularization_loss: 0.0000e+00 - total_loss: 12629.0112\n",
      "Epoch 10/20\n",
      "11/11 [==============================] - 6s 517ms/step - factorized_top_k/top_1_categorical_accuracy: 0.2273 - factorized_top_k/top_5_categorical_accuracy: 0.6724 - factorized_top_k/top_10_categorical_accuracy: 0.7397 - factorized_top_k/top_50_categorical_accuracy: 0.8709 - factorized_top_k/top_100_categorical_accuracy: 0.9187 - loss: 12392.8771 - regularization_loss: 0.0000e+00 - total_loss: 12392.8771\n",
      "Epoch 11/20\n",
      "11/11 [==============================] - 6s 504ms/step - factorized_top_k/top_1_categorical_accuracy: 0.2536 - factorized_top_k/top_5_categorical_accuracy: 0.6733 - factorized_top_k/top_10_categorical_accuracy: 0.7421 - factorized_top_k/top_50_categorical_accuracy: 0.8745 - factorized_top_k/top_100_categorical_accuracy: 0.9211 - loss: 12230.5509 - regularization_loss: 0.0000e+00 - total_loss: 12230.5509\n",
      "Epoch 12/20\n",
      "11/11 [==============================] - 6s 502ms/step - factorized_top_k/top_1_categorical_accuracy: 0.2741 - factorized_top_k/top_5_categorical_accuracy: 0.6746 - factorized_top_k/top_10_categorical_accuracy: 0.7439 - factorized_top_k/top_50_categorical_accuracy: 0.8773 - factorized_top_k/top_100_categorical_accuracy: 0.9229 - loss: 12109.7405 - regularization_loss: 0.0000e+00 - total_loss: 12109.7405\n",
      "Epoch 13/20\n",
      "11/11 [==============================] - 5s 492ms/step - factorized_top_k/top_1_categorical_accuracy: 0.2874 - factorized_top_k/top_5_categorical_accuracy: 0.6757 - factorized_top_k/top_10_categorical_accuracy: 0.7454 - factorized_top_k/top_50_categorical_accuracy: 0.8797 - factorized_top_k/top_100_categorical_accuracy: 0.9247 - loss: 12015.4072 - regularization_loss: 0.0000e+00 - total_loss: 12015.4072\n",
      "Epoch 14/20\n",
      "11/11 [==============================] - 5s 488ms/step - factorized_top_k/top_1_categorical_accuracy: 0.2987 - factorized_top_k/top_5_categorical_accuracy: 0.6766 - factorized_top_k/top_10_categorical_accuracy: 0.7472 - factorized_top_k/top_50_categorical_accuracy: 0.8823 - factorized_top_k/top_100_categorical_accuracy: 0.9282 - loss: 11939.0279 - regularization_loss: 0.0000e+00 - total_loss: 11939.0279\n",
      "Epoch 15/20\n",
      "11/11 [==============================] - 5s 490ms/step - factorized_top_k/top_1_categorical_accuracy: 0.3084 - factorized_top_k/top_5_categorical_accuracy: 0.6771 - factorized_top_k/top_10_categorical_accuracy: 0.7483 - factorized_top_k/top_50_categorical_accuracy: 0.8845 - factorized_top_k/top_100_categorical_accuracy: 0.9301 - loss: 11875.2757 - regularization_loss: 0.0000e+00 - total_loss: 11875.2757\n",
      "Epoch 16/20\n",
      "11/11 [==============================] - 5s 490ms/step - factorized_top_k/top_1_categorical_accuracy: 0.3150 - factorized_top_k/top_5_categorical_accuracy: 0.6774 - factorized_top_k/top_10_categorical_accuracy: 0.7496 - factorized_top_k/top_50_categorical_accuracy: 0.8870 - factorized_top_k/top_100_categorical_accuracy: 0.9319 - loss: 11820.6768 - regularization_loss: 0.0000e+00 - total_loss: 11820.6768\n",
      "Epoch 17/20\n",
      "11/11 [==============================] - 5s 493ms/step - factorized_top_k/top_1_categorical_accuracy: 0.3200 - factorized_top_k/top_5_categorical_accuracy: 0.6776 - factorized_top_k/top_10_categorical_accuracy: 0.7504 - factorized_top_k/top_50_categorical_accuracy: 0.8894 - factorized_top_k/top_100_categorical_accuracy: 0.9329 - loss: 11773.1050 - regularization_loss: 0.0000e+00 - total_loss: 11773.1050\n",
      "Epoch 18/20\n",
      "11/11 [==============================] - 5s 485ms/step - factorized_top_k/top_1_categorical_accuracy: 0.3238 - factorized_top_k/top_5_categorical_accuracy: 0.6777 - factorized_top_k/top_10_categorical_accuracy: 0.7517 - factorized_top_k/top_50_categorical_accuracy: 0.8912 - factorized_top_k/top_100_categorical_accuracy: 0.9343 - loss: 11731.0774 - regularization_loss: 0.0000e+00 - total_loss: 11731.0774\n",
      "Epoch 19/20\n",
      "11/11 [==============================] - 5s 489ms/step - factorized_top_k/top_1_categorical_accuracy: 0.3272 - factorized_top_k/top_5_categorical_accuracy: 0.6789 - factorized_top_k/top_10_categorical_accuracy: 0.7527 - factorized_top_k/top_50_categorical_accuracy: 0.8929 - factorized_top_k/top_100_categorical_accuracy: 0.9355 - loss: 11693.3774 - regularization_loss: 0.0000e+00 - total_loss: 11693.3774\n",
      "Epoch 20/20\n",
      "11/11 [==============================] - 5s 496ms/step - factorized_top_k/top_1_categorical_accuracy: 0.3293 - factorized_top_k/top_5_categorical_accuracy: 0.6798 - factorized_top_k/top_10_categorical_accuracy: 0.7533 - factorized_top_k/top_50_categorical_accuracy: 0.8944 - factorized_top_k/top_100_categorical_accuracy: 0.9366 - loss: 11659.0914 - regularization_loss: 0.0000e+00 - total_loss: 11659.0914\n"
     ]
    },
    {
     "data": {
      "text/plain": [
       "<keras.callbacks.History at 0x281fe492a60>"
      ]
     },
     "execution_count": 76,
     "metadata": {},
     "output_type": "execute_result"
    }
   ],
   "source": [
    "model.fit(cached_train, epochs=20)"
   ]
  },
  {
   "cell_type": "code",
   "execution_count": 77,
   "id": "00a469c2-e252-42a8-b2fa-a81476ab34fb",
   "metadata": {},
   "outputs": [
    {
     "name": "stdout",
     "output_type": "stream",
     "text": [
      "13/13 [==============================] - 3s 150ms/step - factorized_top_k/top_1_categorical_accuracy: 0.1988 - factorized_top_k/top_5_categorical_accuracy: 0.3441 - factorized_top_k/top_10_categorical_accuracy: 0.3768 - factorized_top_k/top_50_categorical_accuracy: 0.4689 - factorized_top_k/top_100_categorical_accuracy: 0.5192 - loss: 3780.4463 - regularization_loss: 0.0000e+00 - total_loss: 3780.4463\n"
     ]
    },
    {
     "data": {
      "text/plain": [
       "{'factorized_top_k/top_1_categorical_accuracy': 0.19882984459400177,\n",
       " 'factorized_top_k/top_5_categorical_accuracy': 0.34412482380867004,\n",
       " 'factorized_top_k/top_10_categorical_accuracy': 0.3767918050289154,\n",
       " 'factorized_top_k/top_50_categorical_accuracy': 0.46894198656082153,\n",
       " 'factorized_top_k/top_100_categorical_accuracy': 0.5191614031791687,\n",
       " 'loss': 1721.0037841796875,\n",
       " 'regularization_loss': 0,\n",
       " 'total_loss': 1721.0037841796875}"
      ]
     },
     "execution_count": 77,
     "metadata": {},
     "output_type": "execute_result"
    }
   ],
   "source": [
    "model.evaluate(cached_test, return_dict=True)"
   ]
  },
  {
   "cell_type": "code",
   "execution_count": 79,
   "id": "6f95c884-895c-4594-977d-d7b8a4a78acc",
   "metadata": {},
   "outputs": [
    {
     "name": "stdout",
     "output_type": "stream",
     "text": [
      "xiaozhainv Korean Casual knitted cardigan long sleeve top\n",
      "【COD & Ready Stock】Korean Women's Puff Sleeve Crop Top Sexy Square Neck Short Chiffon Long Sleeve Blouse\n",
      "Knit crop top lettuce edge STRIPES Tops Korean top REA\n",
      "NKD Korean Fashion Erich Basic Daily Polo Tie Top 1104\n",
      "Yihua 2021 summer Korean version of the new square collar lace wood ears floral chiffon short shirt top women\n"
     ]
    }
   ],
   "source": [
    "index = tfrs.layers.factorized_top_k.BruteForce(model.user_model, k=10)\n",
    "index.index_from_dataset(\n",
    "  tf.data.Dataset.zip((product_data_ds.batch(100), product_data_ds.batch(100).map(model.product_model)))\n",
    ")\n",
    "n=\"10795\"\n",
    "_, product = index(tf.constant([n]))\n",
    "product = np.unique(product)\n",
    "list_product = []\n",
    "for x in product:\n",
    "    x = str(int(x))\n",
    "    product_name = product_data.loc[product_data['product_itemid'] == x].iloc[0]\n",
    "    product_name = product_name['product_name']\n",
    "    list_product.append(product_name)\n",
    "for x in list_product:\n",
    "    print(x)"
   ]
  },
  {
   "cell_type": "code",
   "execution_count": null,
   "id": "cc0bbafa-f1b8-40d0-a10a-0d1ad43d1e97",
   "metadata": {},
   "outputs": [],
   "source": []
  }
 ],
 "metadata": {
  "kernelspec": {
   "display_name": "Python 3 (ipykernel)",
   "language": "python",
   "name": "python3"
  },
  "language_info": {
   "codemirror_mode": {
    "name": "ipython",
    "version": 3
   },
   "file_extension": ".py",
   "mimetype": "text/x-python",
   "name": "python",
   "nbconvert_exporter": "python",
   "pygments_lexer": "ipython3",
   "version": "3.9.7"
  }
 },
 "nbformat": 4,
 "nbformat_minor": 5
}
